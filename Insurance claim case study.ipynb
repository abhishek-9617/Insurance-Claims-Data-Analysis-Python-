{
 "cells": [
  {
   "cell_type": "code",
   "execution_count": 2,
   "id": "71137c11-66aa-411e-bb0d-ff4e6a1c55ac",
   "metadata": {},
   "outputs": [],
   "source": [
    "import numpy as np\n",
    "import pandas as pd\n",
    "import matplotlib.pyplot as plt\n",
    "import seaborn as sns\n",
    "import scipy.stats as stats\n",
    "import datetime as dt"
   ]
  },
  {
   "cell_type": "markdown",
   "id": "0822dbfb-f32e-401a-8a73-99f0b9b8dbda",
   "metadata": {},
   "source": [
    "### Q1. Import claims_data.csv and cust_data.csv which is provided to you and combine the two datasets appropriately to create a 360-degree view of the data. Use the same for the subsequent questions."
   ]
  },
  {
   "cell_type": "code",
   "execution_count": 870,
   "id": "06e5def9-2f04-44f6-81ef-f59866398134",
   "metadata": {},
   "outputs": [
    {
     "data": {
      "text/html": [
       "<div>\n",
       "<style scoped>\n",
       "    .dataframe tbody tr th:only-of-type {\n",
       "        vertical-align: middle;\n",
       "    }\n",
       "\n",
       "    .dataframe tbody tr th {\n",
       "        vertical-align: top;\n",
       "    }\n",
       "\n",
       "    .dataframe thead th {\n",
       "        text-align: right;\n",
       "    }\n",
       "</style>\n",
       "<table border=\"1\" class=\"dataframe\">\n",
       "  <thead>\n",
       "    <tr style=\"text-align: right;\">\n",
       "      <th></th>\n",
       "      <th>claim_id</th>\n",
       "      <th>customer_id</th>\n",
       "      <th>incident_cause</th>\n",
       "      <th>claim_date</th>\n",
       "      <th>claim_area</th>\n",
       "      <th>police_report</th>\n",
       "      <th>claim_type</th>\n",
       "      <th>claim_amount</th>\n",
       "      <th>total_policy_claims</th>\n",
       "      <th>fraudulent</th>\n",
       "      <th>gender</th>\n",
       "      <th>DateOfBirth</th>\n",
       "      <th>State</th>\n",
       "      <th>Contact</th>\n",
       "      <th>Segment</th>\n",
       "    </tr>\n",
       "  </thead>\n",
       "  <tbody>\n",
       "    <tr>\n",
       "      <th>0</th>\n",
       "      <td>54004764</td>\n",
       "      <td>21868593</td>\n",
       "      <td>Driver error</td>\n",
       "      <td>11/27/2017</td>\n",
       "      <td>Auto</td>\n",
       "      <td>No</td>\n",
       "      <td>Material only</td>\n",
       "      <td>$2980</td>\n",
       "      <td>1.0</td>\n",
       "      <td>No</td>\n",
       "      <td>Female</td>\n",
       "      <td>12-Jan-79</td>\n",
       "      <td>VT</td>\n",
       "      <td>789-916-8172</td>\n",
       "      <td>Platinum</td>\n",
       "    </tr>\n",
       "    <tr>\n",
       "      <th>1</th>\n",
       "      <td>33985796</td>\n",
       "      <td>75740424</td>\n",
       "      <td>Crime</td>\n",
       "      <td>10/03/2018</td>\n",
       "      <td>Home</td>\n",
       "      <td>Unknown</td>\n",
       "      <td>Material only</td>\n",
       "      <td>$2980</td>\n",
       "      <td>3.0</td>\n",
       "      <td>No</td>\n",
       "      <td>Female</td>\n",
       "      <td>13-Jan-70</td>\n",
       "      <td>ME</td>\n",
       "      <td>265-543-1264</td>\n",
       "      <td>Silver</td>\n",
       "    </tr>\n",
       "    <tr>\n",
       "      <th>2</th>\n",
       "      <td>53522022</td>\n",
       "      <td>30308357</td>\n",
       "      <td>Other driver error</td>\n",
       "      <td>02/02/2018</td>\n",
       "      <td>Auto</td>\n",
       "      <td>No</td>\n",
       "      <td>Material only</td>\n",
       "      <td>$3369.5</td>\n",
       "      <td>1.0</td>\n",
       "      <td>Yes</td>\n",
       "      <td>Female</td>\n",
       "      <td>11-Mar-84</td>\n",
       "      <td>TN</td>\n",
       "      <td>798-631-4758</td>\n",
       "      <td>Silver</td>\n",
       "    </tr>\n",
       "    <tr>\n",
       "      <th>3</th>\n",
       "      <td>13015401</td>\n",
       "      <td>47830476</td>\n",
       "      <td>Natural causes</td>\n",
       "      <td>06/17/2018</td>\n",
       "      <td>Auto</td>\n",
       "      <td>No</td>\n",
       "      <td>Material only</td>\n",
       "      <td>$1680</td>\n",
       "      <td>1.0</td>\n",
       "      <td>No</td>\n",
       "      <td>Female</td>\n",
       "      <td>01-May-86</td>\n",
       "      <td>MA</td>\n",
       "      <td>413-187-7945</td>\n",
       "      <td>Silver</td>\n",
       "    </tr>\n",
       "    <tr>\n",
       "      <th>4</th>\n",
       "      <td>22890252</td>\n",
       "      <td>19269962</td>\n",
       "      <td>Crime</td>\n",
       "      <td>01/13/2018</td>\n",
       "      <td>Auto</td>\n",
       "      <td>No</td>\n",
       "      <td>Material only</td>\n",
       "      <td>$2680</td>\n",
       "      <td>1.0</td>\n",
       "      <td>No</td>\n",
       "      <td>Male</td>\n",
       "      <td>13-May-77</td>\n",
       "      <td>NV</td>\n",
       "      <td>956-871-8691</td>\n",
       "      <td>Gold</td>\n",
       "    </tr>\n",
       "  </tbody>\n",
       "</table>\n",
       "</div>"
      ],
      "text/plain": [
       "   claim_id  customer_id      incident_cause  claim_date claim_area  \\\n",
       "0  54004764     21868593        Driver error  11/27/2017       Auto   \n",
       "1  33985796     75740424               Crime  10/03/2018       Home   \n",
       "2  53522022     30308357  Other driver error  02/02/2018       Auto   \n",
       "3  13015401     47830476      Natural causes  06/17/2018       Auto   \n",
       "4  22890252     19269962               Crime  01/13/2018       Auto   \n",
       "\n",
       "  police_report     claim_type claim_amount  total_policy_claims fraudulent  \\\n",
       "0            No  Material only        $2980                  1.0         No   \n",
       "1       Unknown  Material only        $2980                  3.0         No   \n",
       "2            No  Material only      $3369.5                  1.0        Yes   \n",
       "3            No  Material only        $1680                  1.0         No   \n",
       "4            No  Material only        $2680                  1.0         No   \n",
       "\n",
       "   gender DateOfBirth State       Contact   Segment  \n",
       "0  Female   12-Jan-79    VT  789-916-8172  Platinum  \n",
       "1  Female   13-Jan-70    ME  265-543-1264    Silver  \n",
       "2  Female   11-Mar-84    TN  798-631-4758    Silver  \n",
       "3  Female   01-May-86    MA  413-187-7945    Silver  \n",
       "4    Male   13-May-77    NV  956-871-8691      Gold  "
      ]
     },
     "execution_count": 870,
     "metadata": {},
     "output_type": "execute_result"
    }
   ],
   "source": [
    "claim= pd.read_csv(r\"C:\\Users\\hp\\Downloads\\Python Case Study\\Case Study 3 - Insurance Claims Case Study\\claims.csv\")\n",
    "cust= pd.read_csv(r\"C:\\Users\\hp\\Downloads\\Python Case Study\\Case Study 3 - Insurance Claims Case Study\\cust_demographics.csv\")\n",
    "cust_claim= pd.merge(claim , cust , left_on='customer_id' , right_on= 'CUST_ID', how='inner')\n",
    "cust_claim.drop(columns = [\"CUST_ID\"], inplace = True)\n",
    "cust_claim.head()"
   ]
  },
  {
   "cell_type": "code",
   "execution_count": 872,
   "id": "288c166d-c42c-4993-a468-52a942f76f03",
   "metadata": {},
   "outputs": [
    {
     "name": "stdout",
     "output_type": "stream",
     "text": [
      "<class 'pandas.core.frame.DataFrame'>\n",
      "RangeIndex: 1085 entries, 0 to 1084\n",
      "Data columns (total 15 columns):\n",
      " #   Column               Non-Null Count  Dtype  \n",
      "---  ------               --------------  -----  \n",
      " 0   claim_id             1085 non-null   int64  \n",
      " 1   customer_id          1085 non-null   int64  \n",
      " 2   incident_cause       1085 non-null   object \n",
      " 3   claim_date           1085 non-null   object \n",
      " 4   claim_area           1085 non-null   object \n",
      " 5   police_report        1085 non-null   object \n",
      " 6   claim_type           1085 non-null   object \n",
      " 7   claim_amount         1020 non-null   object \n",
      " 8   total_policy_claims  1075 non-null   float64\n",
      " 9   fraudulent           1085 non-null   object \n",
      " 10  gender               1085 non-null   object \n",
      " 11  DateOfBirth          1085 non-null   object \n",
      " 12  State                1085 non-null   object \n",
      " 13  Contact              1085 non-null   object \n",
      " 14  Segment              1085 non-null   object \n",
      "dtypes: float64(1), int64(2), object(12)\n",
      "memory usage: 127.3+ KB\n"
     ]
    }
   ],
   "source": [
    "cust_claim.info()"
   ]
  },
  {
   "cell_type": "markdown",
   "id": "10db653f-bfc3-4ef9-bbab-b48df0cf36c5",
   "metadata": {},
   "source": [
    "### Q2. Perform a data audit for the datatypes and find out if there are any mismatch within the current datatypes of the columns and their business significance."
   ]
  },
  {
   "cell_type": "code",
   "execution_count": 875,
   "id": "14dbc54c-4a06-4f7f-9c0c-e3afff266746",
   "metadata": {},
   "outputs": [
    {
     "data": {
      "text/plain": [
       "claim_id                 int64\n",
       "customer_id              int64\n",
       "incident_cause          object\n",
       "claim_date              object\n",
       "claim_area              object\n",
       "police_report           object\n",
       "claim_type              object\n",
       "claim_amount            object\n",
       "total_policy_claims    float64\n",
       "fraudulent              object\n",
       "gender                  object\n",
       "DateOfBirth             object\n",
       "State                   object\n",
       "Contact                 object\n",
       "Segment                 object\n",
       "dtype: object"
      ]
     },
     "execution_count": 875,
     "metadata": {},
     "output_type": "execute_result"
    }
   ],
   "source": [
    "cust_claim.dtypes"
   ]
  },
  {
   "cell_type": "markdown",
   "id": "079a4ad5-66ce-4e86-b2ea-553b4042b7ed",
   "metadata": {},
   "source": [
    "### Q3. Convert the column claim_amount to numeric. Use the appropriate modules/attributes to remove the $ sign."
   ]
  },
  {
   "cell_type": "code",
   "execution_count": 878,
   "id": "2faf6f31-11e6-41ba-b2f1-6582715dae11",
   "metadata": {},
   "outputs": [],
   "source": [
    "cust_claim['claim_date']= pd.to_datetime(cust_claim.claim_date, format='%m/%d/%Y')\n",
    "cust_claim['DateOfBirth']= pd.to_datetime(cust_claim.DateOfBirth, format= '%d-%b-%y').apply(\n",
    "                                                            lambda x : (x - pd.DateOffset(years=100)) if (x.year > pd.Timestamp.today().year) else x)\n",
    "cust_claim['claim_amount']= cust_claim.claim_amount.str.removeprefix('$').astype('float')"
   ]
  },
  {
   "cell_type": "code",
   "execution_count": 880,
   "id": "7a1af044-29db-4e55-b67e-eb184a5c026b",
   "metadata": {},
   "outputs": [],
   "source": [
    "cust_claim[\"Contact\"] = pd.to_numeric(cust_claim.Contact.str.replace(\"-\",\"\"),downcast='integer')"
   ]
  },
  {
   "cell_type": "code",
   "execution_count": 882,
   "id": "64e28270-a5df-45ec-870c-97e9fe663b51",
   "metadata": {},
   "outputs": [
    {
     "data": {
      "text/html": [
       "<div>\n",
       "<style scoped>\n",
       "    .dataframe tbody tr th:only-of-type {\n",
       "        vertical-align: middle;\n",
       "    }\n",
       "\n",
       "    .dataframe tbody tr th {\n",
       "        vertical-align: top;\n",
       "    }\n",
       "\n",
       "    .dataframe thead th {\n",
       "        text-align: right;\n",
       "    }\n",
       "</style>\n",
       "<table border=\"1\" class=\"dataframe\">\n",
       "  <thead>\n",
       "    <tr style=\"text-align: right;\">\n",
       "      <th></th>\n",
       "      <th>claim_id</th>\n",
       "      <th>customer_id</th>\n",
       "      <th>incident_cause</th>\n",
       "      <th>claim_date</th>\n",
       "      <th>claim_area</th>\n",
       "      <th>police_report</th>\n",
       "      <th>claim_type</th>\n",
       "      <th>claim_amount</th>\n",
       "      <th>total_policy_claims</th>\n",
       "      <th>fraudulent</th>\n",
       "      <th>gender</th>\n",
       "      <th>DateOfBirth</th>\n",
       "      <th>State</th>\n",
       "      <th>Contact</th>\n",
       "      <th>Segment</th>\n",
       "    </tr>\n",
       "  </thead>\n",
       "  <tbody>\n",
       "    <tr>\n",
       "      <th>0</th>\n",
       "      <td>54004764</td>\n",
       "      <td>21868593</td>\n",
       "      <td>Driver error</td>\n",
       "      <td>2017-11-27</td>\n",
       "      <td>Auto</td>\n",
       "      <td>No</td>\n",
       "      <td>Material only</td>\n",
       "      <td>2980.0</td>\n",
       "      <td>1.0</td>\n",
       "      <td>No</td>\n",
       "      <td>Female</td>\n",
       "      <td>1979-01-12</td>\n",
       "      <td>VT</td>\n",
       "      <td>7899168172</td>\n",
       "      <td>Platinum</td>\n",
       "    </tr>\n",
       "    <tr>\n",
       "      <th>1</th>\n",
       "      <td>33985796</td>\n",
       "      <td>75740424</td>\n",
       "      <td>Crime</td>\n",
       "      <td>2018-10-03</td>\n",
       "      <td>Home</td>\n",
       "      <td>Unknown</td>\n",
       "      <td>Material only</td>\n",
       "      <td>2980.0</td>\n",
       "      <td>3.0</td>\n",
       "      <td>No</td>\n",
       "      <td>Female</td>\n",
       "      <td>1970-01-13</td>\n",
       "      <td>ME</td>\n",
       "      <td>2655431264</td>\n",
       "      <td>Silver</td>\n",
       "    </tr>\n",
       "    <tr>\n",
       "      <th>2</th>\n",
       "      <td>53522022</td>\n",
       "      <td>30308357</td>\n",
       "      <td>Other driver error</td>\n",
       "      <td>2018-02-02</td>\n",
       "      <td>Auto</td>\n",
       "      <td>No</td>\n",
       "      <td>Material only</td>\n",
       "      <td>3369.5</td>\n",
       "      <td>1.0</td>\n",
       "      <td>Yes</td>\n",
       "      <td>Female</td>\n",
       "      <td>1984-03-11</td>\n",
       "      <td>TN</td>\n",
       "      <td>7986314758</td>\n",
       "      <td>Silver</td>\n",
       "    </tr>\n",
       "    <tr>\n",
       "      <th>3</th>\n",
       "      <td>13015401</td>\n",
       "      <td>47830476</td>\n",
       "      <td>Natural causes</td>\n",
       "      <td>2018-06-17</td>\n",
       "      <td>Auto</td>\n",
       "      <td>No</td>\n",
       "      <td>Material only</td>\n",
       "      <td>1680.0</td>\n",
       "      <td>1.0</td>\n",
       "      <td>No</td>\n",
       "      <td>Female</td>\n",
       "      <td>1986-05-01</td>\n",
       "      <td>MA</td>\n",
       "      <td>4131877945</td>\n",
       "      <td>Silver</td>\n",
       "    </tr>\n",
       "    <tr>\n",
       "      <th>4</th>\n",
       "      <td>22890252</td>\n",
       "      <td>19269962</td>\n",
       "      <td>Crime</td>\n",
       "      <td>2018-01-13</td>\n",
       "      <td>Auto</td>\n",
       "      <td>No</td>\n",
       "      <td>Material only</td>\n",
       "      <td>2680.0</td>\n",
       "      <td>1.0</td>\n",
       "      <td>No</td>\n",
       "      <td>Male</td>\n",
       "      <td>1977-05-13</td>\n",
       "      <td>NV</td>\n",
       "      <td>9568718691</td>\n",
       "      <td>Gold</td>\n",
       "    </tr>\n",
       "  </tbody>\n",
       "</table>\n",
       "</div>"
      ],
      "text/plain": [
       "   claim_id  customer_id      incident_cause claim_date claim_area  \\\n",
       "0  54004764     21868593        Driver error 2017-11-27       Auto   \n",
       "1  33985796     75740424               Crime 2018-10-03       Home   \n",
       "2  53522022     30308357  Other driver error 2018-02-02       Auto   \n",
       "3  13015401     47830476      Natural causes 2018-06-17       Auto   \n",
       "4  22890252     19269962               Crime 2018-01-13       Auto   \n",
       "\n",
       "  police_report     claim_type  claim_amount  total_policy_claims fraudulent  \\\n",
       "0            No  Material only        2980.0                  1.0         No   \n",
       "1       Unknown  Material only        2980.0                  3.0         No   \n",
       "2            No  Material only        3369.5                  1.0        Yes   \n",
       "3            No  Material only        1680.0                  1.0         No   \n",
       "4            No  Material only        2680.0                  1.0         No   \n",
       "\n",
       "   gender DateOfBirth State     Contact   Segment  \n",
       "0  Female  1979-01-12    VT  7899168172  Platinum  \n",
       "1  Female  1970-01-13    ME  2655431264    Silver  \n",
       "2  Female  1984-03-11    TN  7986314758    Silver  \n",
       "3  Female  1986-05-01    MA  4131877945    Silver  \n",
       "4    Male  1977-05-13    NV  9568718691      Gold  "
      ]
     },
     "execution_count": 882,
     "metadata": {},
     "output_type": "execute_result"
    }
   ],
   "source": [
    "cust_claim.head()"
   ]
  },
  {
   "cell_type": "code",
   "execution_count": 884,
   "id": "86fbdc07-f50d-47ab-9cfa-3ff3efa8881a",
   "metadata": {},
   "outputs": [
    {
     "data": {
      "text/plain": [
       "claim_id                        int64\n",
       "customer_id                     int64\n",
       "incident_cause                 object\n",
       "claim_date             datetime64[ns]\n",
       "claim_area                     object\n",
       "police_report                  object\n",
       "claim_type                     object\n",
       "claim_amount                  float64\n",
       "total_policy_claims           float64\n",
       "fraudulent                     object\n",
       "gender                         object\n",
       "DateOfBirth            datetime64[ns]\n",
       "State                          object\n",
       "Contact                         int64\n",
       "Segment                        object\n",
       "dtype: object"
      ]
     },
     "execution_count": 884,
     "metadata": {},
     "output_type": "execute_result"
    }
   ],
   "source": [
    "cust_claim.dtypes"
   ]
  },
  {
   "cell_type": "markdown",
   "id": "68b41344-4286-43bc-8efd-45f684f7a61d",
   "metadata": {},
   "source": [
    "### Q4. Of all the injury claims, some of them have gone unreported with the police. Create an alert flag (1,0) for all such claims."
   ]
  },
  {
   "cell_type": "code",
   "execution_count": 887,
   "id": "8bdbfd20-e7a9-4387-873e-279c873a922d",
   "metadata": {},
   "outputs": [
    {
     "data": {
      "text/html": [
       "<div>\n",
       "<style scoped>\n",
       "    .dataframe tbody tr th:only-of-type {\n",
       "        vertical-align: middle;\n",
       "    }\n",
       "\n",
       "    .dataframe tbody tr th {\n",
       "        vertical-align: top;\n",
       "    }\n",
       "\n",
       "    .dataframe thead th {\n",
       "        text-align: right;\n",
       "    }\n",
       "</style>\n",
       "<table border=\"1\" class=\"dataframe\">\n",
       "  <thead>\n",
       "    <tr style=\"text-align: right;\">\n",
       "      <th></th>\n",
       "      <th>claim_id</th>\n",
       "      <th>customer_id</th>\n",
       "      <th>incident_cause</th>\n",
       "      <th>claim_date</th>\n",
       "      <th>claim_area</th>\n",
       "      <th>police_report</th>\n",
       "      <th>claim_type</th>\n",
       "      <th>claim_amount</th>\n",
       "      <th>total_policy_claims</th>\n",
       "      <th>fraudulent</th>\n",
       "      <th>gender</th>\n",
       "      <th>DateOfBirth</th>\n",
       "      <th>State</th>\n",
       "      <th>Contact</th>\n",
       "      <th>Segment</th>\n",
       "      <th>flag</th>\n",
       "    </tr>\n",
       "  </thead>\n",
       "  <tbody>\n",
       "    <tr>\n",
       "      <th>0</th>\n",
       "      <td>54004764</td>\n",
       "      <td>21868593</td>\n",
       "      <td>Driver error</td>\n",
       "      <td>2017-11-27</td>\n",
       "      <td>Auto</td>\n",
       "      <td>No</td>\n",
       "      <td>Material only</td>\n",
       "      <td>2980.0</td>\n",
       "      <td>1.0</td>\n",
       "      <td>No</td>\n",
       "      <td>Female</td>\n",
       "      <td>1979-01-12</td>\n",
       "      <td>VT</td>\n",
       "      <td>7899168172</td>\n",
       "      <td>Platinum</td>\n",
       "      <td>0.0</td>\n",
       "    </tr>\n",
       "    <tr>\n",
       "      <th>1</th>\n",
       "      <td>33985796</td>\n",
       "      <td>75740424</td>\n",
       "      <td>Crime</td>\n",
       "      <td>2018-10-03</td>\n",
       "      <td>Home</td>\n",
       "      <td>Unknown</td>\n",
       "      <td>Material only</td>\n",
       "      <td>2980.0</td>\n",
       "      <td>3.0</td>\n",
       "      <td>No</td>\n",
       "      <td>Female</td>\n",
       "      <td>1970-01-13</td>\n",
       "      <td>ME</td>\n",
       "      <td>2655431264</td>\n",
       "      <td>Silver</td>\n",
       "      <td>NaN</td>\n",
       "    </tr>\n",
       "    <tr>\n",
       "      <th>2</th>\n",
       "      <td>53522022</td>\n",
       "      <td>30308357</td>\n",
       "      <td>Other driver error</td>\n",
       "      <td>2018-02-02</td>\n",
       "      <td>Auto</td>\n",
       "      <td>No</td>\n",
       "      <td>Material only</td>\n",
       "      <td>3369.5</td>\n",
       "      <td>1.0</td>\n",
       "      <td>Yes</td>\n",
       "      <td>Female</td>\n",
       "      <td>1984-03-11</td>\n",
       "      <td>TN</td>\n",
       "      <td>7986314758</td>\n",
       "      <td>Silver</td>\n",
       "      <td>0.0</td>\n",
       "    </tr>\n",
       "    <tr>\n",
       "      <th>3</th>\n",
       "      <td>13015401</td>\n",
       "      <td>47830476</td>\n",
       "      <td>Natural causes</td>\n",
       "      <td>2018-06-17</td>\n",
       "      <td>Auto</td>\n",
       "      <td>No</td>\n",
       "      <td>Material only</td>\n",
       "      <td>1680.0</td>\n",
       "      <td>1.0</td>\n",
       "      <td>No</td>\n",
       "      <td>Female</td>\n",
       "      <td>1986-05-01</td>\n",
       "      <td>MA</td>\n",
       "      <td>4131877945</td>\n",
       "      <td>Silver</td>\n",
       "      <td>0.0</td>\n",
       "    </tr>\n",
       "    <tr>\n",
       "      <th>4</th>\n",
       "      <td>22890252</td>\n",
       "      <td>19269962</td>\n",
       "      <td>Crime</td>\n",
       "      <td>2018-01-13</td>\n",
       "      <td>Auto</td>\n",
       "      <td>No</td>\n",
       "      <td>Material only</td>\n",
       "      <td>2680.0</td>\n",
       "      <td>1.0</td>\n",
       "      <td>No</td>\n",
       "      <td>Male</td>\n",
       "      <td>1977-05-13</td>\n",
       "      <td>NV</td>\n",
       "      <td>9568718691</td>\n",
       "      <td>Gold</td>\n",
       "      <td>0.0</td>\n",
       "    </tr>\n",
       "  </tbody>\n",
       "</table>\n",
       "</div>"
      ],
      "text/plain": [
       "   claim_id  customer_id      incident_cause claim_date claim_area  \\\n",
       "0  54004764     21868593        Driver error 2017-11-27       Auto   \n",
       "1  33985796     75740424               Crime 2018-10-03       Home   \n",
       "2  53522022     30308357  Other driver error 2018-02-02       Auto   \n",
       "3  13015401     47830476      Natural causes 2018-06-17       Auto   \n",
       "4  22890252     19269962               Crime 2018-01-13       Auto   \n",
       "\n",
       "  police_report     claim_type  claim_amount  total_policy_claims fraudulent  \\\n",
       "0            No  Material only        2980.0                  1.0         No   \n",
       "1       Unknown  Material only        2980.0                  3.0         No   \n",
       "2            No  Material only        3369.5                  1.0        Yes   \n",
       "3            No  Material only        1680.0                  1.0         No   \n",
       "4            No  Material only        2680.0                  1.0         No   \n",
       "\n",
       "   gender DateOfBirth State     Contact   Segment  flag  \n",
       "0  Female  1979-01-12    VT  7899168172  Platinum   0.0  \n",
       "1  Female  1970-01-13    ME  2655431264    Silver   NaN  \n",
       "2  Female  1984-03-11    TN  7986314758    Silver   0.0  \n",
       "3  Female  1986-05-01    MA  4131877945    Silver   0.0  \n",
       "4    Male  1977-05-13    NV  9568718691      Gold   0.0  "
      ]
     },
     "execution_count": 887,
     "metadata": {},
     "output_type": "execute_result"
    }
   ],
   "source": [
    "cust_claim['flag'] = np.where(cust_claim.police_report == 'No' , 0 , np.where(cust_claim.police_report == 'Yes' , 1 , np.nan ))\n",
    "cust_claim.head()"
   ]
  },
  {
   "cell_type": "markdown",
   "id": "a25f0b04-8edc-4910-b985-2fcae66cc04a",
   "metadata": {},
   "source": [
    "### Q5. One customer can claim for insurance more than once and in each claim, multiple categories of claims can be involved. However, customer ID should remain unique.\n",
    "Retain the most recent observation and delete any duplicated records in the data based on the customer ID column."
   ]
  },
  {
   "cell_type": "code",
   "execution_count": 890,
   "id": "0a4df7aa-9d98-4167-94f9-c99861ad510d",
   "metadata": {},
   "outputs": [
    {
     "data": {
      "text/html": [
       "<div>\n",
       "<style scoped>\n",
       "    .dataframe tbody tr th:only-of-type {\n",
       "        vertical-align: middle;\n",
       "    }\n",
       "\n",
       "    .dataframe tbody tr th {\n",
       "        vertical-align: top;\n",
       "    }\n",
       "\n",
       "    .dataframe thead th {\n",
       "        text-align: right;\n",
       "    }\n",
       "</style>\n",
       "<table border=\"1\" class=\"dataframe\">\n",
       "  <thead>\n",
       "    <tr style=\"text-align: right;\">\n",
       "      <th></th>\n",
       "      <th>claim_id</th>\n",
       "      <th>incident_cause</th>\n",
       "      <th>claim_date</th>\n",
       "      <th>claim_area</th>\n",
       "      <th>police_report</th>\n",
       "      <th>claim_type</th>\n",
       "      <th>claim_amount</th>\n",
       "      <th>total_policy_claims</th>\n",
       "      <th>fraudulent</th>\n",
       "      <th>gender</th>\n",
       "      <th>DateOfBirth</th>\n",
       "      <th>State</th>\n",
       "      <th>Contact</th>\n",
       "      <th>Segment</th>\n",
       "      <th>flag</th>\n",
       "    </tr>\n",
       "  </thead>\n",
       "  <tbody>\n",
       "    <tr>\n",
       "      <th>0</th>\n",
       "      <td>69348631</td>\n",
       "      <td>Driver error</td>\n",
       "      <td>2018-04-10</td>\n",
       "      <td>Auto</td>\n",
       "      <td>No</td>\n",
       "      <td>Injury only</td>\n",
       "      <td>NaN</td>\n",
       "      <td>1.0</td>\n",
       "      <td>Yes</td>\n",
       "      <td>Female</td>\n",
       "      <td>1978-05-23</td>\n",
       "      <td>DE</td>\n",
       "      <td>9628791238</td>\n",
       "      <td>Platinum</td>\n",
       "      <td>0.0</td>\n",
       "    </tr>\n",
       "    <tr>\n",
       "      <th>1</th>\n",
       "      <td>40953049</td>\n",
       "      <td>Other causes</td>\n",
       "      <td>2018-04-04</td>\n",
       "      <td>Auto</td>\n",
       "      <td>No</td>\n",
       "      <td>Material and injury</td>\n",
       "      <td>39192.0</td>\n",
       "      <td>1.0</td>\n",
       "      <td>Yes</td>\n",
       "      <td>Male</td>\n",
       "      <td>1972-12-20</td>\n",
       "      <td>TX</td>\n",
       "      <td>1738926314</td>\n",
       "      <td>Silver</td>\n",
       "      <td>0.0</td>\n",
       "    </tr>\n",
       "    <tr>\n",
       "      <th>2</th>\n",
       "      <td>45780237</td>\n",
       "      <td>Natural causes</td>\n",
       "      <td>2017-10-17</td>\n",
       "      <td>Auto</td>\n",
       "      <td>Unknown</td>\n",
       "      <td>Material only</td>\n",
       "      <td>1621.5</td>\n",
       "      <td>2.0</td>\n",
       "      <td>Yes</td>\n",
       "      <td>Male</td>\n",
       "      <td>1988-07-28</td>\n",
       "      <td>FL</td>\n",
       "      <td>3645981549</td>\n",
       "      <td>Silver</td>\n",
       "      <td>NaN</td>\n",
       "    </tr>\n",
       "    <tr>\n",
       "      <th>3</th>\n",
       "      <td>89833962</td>\n",
       "      <td>Other causes</td>\n",
       "      <td>2018-03-21</td>\n",
       "      <td>Auto</td>\n",
       "      <td>Yes</td>\n",
       "      <td>Material and injury</td>\n",
       "      <td>37040.0</td>\n",
       "      <td>1.0</td>\n",
       "      <td>No</td>\n",
       "      <td>Male</td>\n",
       "      <td>1971-08-19</td>\n",
       "      <td>CA</td>\n",
       "      <td>1873488375</td>\n",
       "      <td>Gold</td>\n",
       "      <td>1.0</td>\n",
       "    </tr>\n",
       "    <tr>\n",
       "      <th>4</th>\n",
       "      <td>35782742</td>\n",
       "      <td>Other driver error</td>\n",
       "      <td>2018-07-27</td>\n",
       "      <td>Auto</td>\n",
       "      <td>No</td>\n",
       "      <td>Injury only</td>\n",
       "      <td>35250.0</td>\n",
       "      <td>3.0</td>\n",
       "      <td>No</td>\n",
       "      <td>Female</td>\n",
       "      <td>1980-08-10</td>\n",
       "      <td>NC</td>\n",
       "      <td>7988625398</td>\n",
       "      <td>Gold</td>\n",
       "      <td>0.0</td>\n",
       "    </tr>\n",
       "  </tbody>\n",
       "</table>\n",
       "</div>"
      ],
      "text/plain": [
       "   claim_id      incident_cause claim_date claim_area police_report  \\\n",
       "0  69348631        Driver error 2018-04-10       Auto            No   \n",
       "1  40953049        Other causes 2018-04-04       Auto            No   \n",
       "2  45780237      Natural causes 2017-10-17       Auto       Unknown   \n",
       "3  89833962        Other causes 2018-03-21       Auto           Yes   \n",
       "4  35782742  Other driver error 2018-07-27       Auto            No   \n",
       "\n",
       "            claim_type  claim_amount  total_policy_claims fraudulent  gender  \\\n",
       "0          Injury only           NaN                  1.0        Yes  Female   \n",
       "1  Material and injury       39192.0                  1.0        Yes    Male   \n",
       "2        Material only        1621.5                  2.0        Yes    Male   \n",
       "3  Material and injury       37040.0                  1.0         No    Male   \n",
       "4          Injury only       35250.0                  3.0         No  Female   \n",
       "\n",
       "  DateOfBirth State     Contact   Segment  flag  \n",
       "0  1978-05-23    DE  9628791238  Platinum   0.0  \n",
       "1  1972-12-20    TX  1738926314    Silver   0.0  \n",
       "2  1988-07-28    FL  3645981549    Silver   NaN  \n",
       "3  1971-08-19    CA  1873488375      Gold   1.0  \n",
       "4  1980-08-10    NC  7988625398      Gold   0.0  "
      ]
     },
     "execution_count": 890,
     "metadata": {},
     "output_type": "execute_result"
    }
   ],
   "source": [
    "cust_claim.groupby('customer_id').first().reset_index(drop = True).head()"
   ]
  },
  {
   "cell_type": "markdown",
   "id": "924d8193-8a54-45d0-8a13-37bc6e3e71dc",
   "metadata": {},
   "source": [
    "### Q6.Check for missing values and impute the missing values with an appropriate value. (mean for continuous and mode for categorical)"
   ]
  },
  {
   "cell_type": "code",
   "execution_count": 893,
   "id": "b8f0567e-9c76-434a-a904-3227a5a7a4e2",
   "metadata": {},
   "outputs": [
    {
     "data": {
      "text/plain": [
       "claim_id                 0\n",
       "customer_id              0\n",
       "incident_cause           0\n",
       "claim_date               0\n",
       "claim_area               0\n",
       "police_report            0\n",
       "claim_type               0\n",
       "claim_amount            65\n",
       "total_policy_claims     10\n",
       "fraudulent               0\n",
       "gender                   0\n",
       "DateOfBirth              0\n",
       "State                    0\n",
       "Contact                  0\n",
       "Segment                  0\n",
       "flag                   296\n",
       "dtype: int64"
      ]
     },
     "execution_count": 893,
     "metadata": {},
     "output_type": "execute_result"
    }
   ],
   "source": [
    "cust_claim.isna().sum()"
   ]
  },
  {
   "cell_type": "code",
   "execution_count": 895,
   "id": "ce32acbe-7b20-4670-b7b9-81e8ba68ac94",
   "metadata": {},
   "outputs": [],
   "source": [
    "def missing_value(x):\n",
    "    if(x.dtype in ['int64','float64']):\n",
    "        return x.fillna(x.mean())\n",
    "    else:\n",
    "        return x.fillna(x.mode().iloc[0])\n",
    "\n",
    "cust_claim.iloc[:, 0:15] = cust_claim.iloc[:,0:15].apply(missing_value)"
   ]
  },
  {
   "cell_type": "code",
   "execution_count": 907,
   "id": "a9dca1e5-04e3-42a3-b6ec-8c45bccba8ed",
   "metadata": {},
   "outputs": [
    {
     "data": {
      "text/plain": [
       "claim_id                 0\n",
       "customer_id              0\n",
       "incident_cause           0\n",
       "claim_date               0\n",
       "claim_area               0\n",
       "police_report            0\n",
       "claim_type               0\n",
       "claim_amount             0\n",
       "total_policy_claims      0\n",
       "fraudulent               0\n",
       "gender                   0\n",
       "DateOfBirth              0\n",
       "State                    0\n",
       "Contact                  0\n",
       "Segment                  0\n",
       "flag                   296\n",
       "dtype: int64"
      ]
     },
     "execution_count": 907,
     "metadata": {},
     "output_type": "execute_result"
    }
   ],
   "source": [
    "cust_claim.isna().sum()"
   ]
  },
  {
   "cell_type": "code",
   "execution_count": 905,
   "id": "3fc26bfc-9edd-415b-a47f-6ddeccb5450a",
   "metadata": {},
   "outputs": [
    {
     "data": {
      "text/html": [
       "<div>\n",
       "<style scoped>\n",
       "    .dataframe tbody tr th:only-of-type {\n",
       "        vertical-align: middle;\n",
       "    }\n",
       "\n",
       "    .dataframe tbody tr th {\n",
       "        vertical-align: top;\n",
       "    }\n",
       "\n",
       "    .dataframe thead th {\n",
       "        text-align: right;\n",
       "    }\n",
       "</style>\n",
       "<table border=\"1\" class=\"dataframe\">\n",
       "  <thead>\n",
       "    <tr style=\"text-align: right;\">\n",
       "      <th></th>\n",
       "      <th>claim_id</th>\n",
       "      <th>customer_id</th>\n",
       "      <th>incident_cause</th>\n",
       "      <th>claim_date</th>\n",
       "      <th>claim_area</th>\n",
       "      <th>police_report</th>\n",
       "      <th>claim_type</th>\n",
       "      <th>claim_amount</th>\n",
       "      <th>total_policy_claims</th>\n",
       "      <th>fraudulent</th>\n",
       "      <th>gender</th>\n",
       "      <th>DateOfBirth</th>\n",
       "      <th>State</th>\n",
       "      <th>Contact</th>\n",
       "      <th>Segment</th>\n",
       "      <th>flag</th>\n",
       "    </tr>\n",
       "  </thead>\n",
       "  <tbody>\n",
       "    <tr>\n",
       "      <th>0</th>\n",
       "      <td>54004764</td>\n",
       "      <td>21868593</td>\n",
       "      <td>Driver error</td>\n",
       "      <td>2017-11-27</td>\n",
       "      <td>Auto</td>\n",
       "      <td>No</td>\n",
       "      <td>Material only</td>\n",
       "      <td>2980.0</td>\n",
       "      <td>1.0</td>\n",
       "      <td>No</td>\n",
       "      <td>Female</td>\n",
       "      <td>1979-01-12</td>\n",
       "      <td>VT</td>\n",
       "      <td>7899168172</td>\n",
       "      <td>Platinum</td>\n",
       "      <td>0.0</td>\n",
       "    </tr>\n",
       "    <tr>\n",
       "      <th>1</th>\n",
       "      <td>33985796</td>\n",
       "      <td>75740424</td>\n",
       "      <td>Crime</td>\n",
       "      <td>2018-10-03</td>\n",
       "      <td>Home</td>\n",
       "      <td>Unknown</td>\n",
       "      <td>Material only</td>\n",
       "      <td>2980.0</td>\n",
       "      <td>3.0</td>\n",
       "      <td>No</td>\n",
       "      <td>Female</td>\n",
       "      <td>1970-01-13</td>\n",
       "      <td>ME</td>\n",
       "      <td>2655431264</td>\n",
       "      <td>Silver</td>\n",
       "      <td>NaN</td>\n",
       "    </tr>\n",
       "    <tr>\n",
       "      <th>2</th>\n",
       "      <td>53522022</td>\n",
       "      <td>30308357</td>\n",
       "      <td>Other driver error</td>\n",
       "      <td>2018-02-02</td>\n",
       "      <td>Auto</td>\n",
       "      <td>No</td>\n",
       "      <td>Material only</td>\n",
       "      <td>3369.5</td>\n",
       "      <td>1.0</td>\n",
       "      <td>Yes</td>\n",
       "      <td>Female</td>\n",
       "      <td>1984-03-11</td>\n",
       "      <td>TN</td>\n",
       "      <td>7986314758</td>\n",
       "      <td>Silver</td>\n",
       "      <td>0.0</td>\n",
       "    </tr>\n",
       "    <tr>\n",
       "      <th>3</th>\n",
       "      <td>13015401</td>\n",
       "      <td>47830476</td>\n",
       "      <td>Natural causes</td>\n",
       "      <td>2018-06-17</td>\n",
       "      <td>Auto</td>\n",
       "      <td>No</td>\n",
       "      <td>Material only</td>\n",
       "      <td>1680.0</td>\n",
       "      <td>1.0</td>\n",
       "      <td>No</td>\n",
       "      <td>Female</td>\n",
       "      <td>1986-05-01</td>\n",
       "      <td>MA</td>\n",
       "      <td>4131877945</td>\n",
       "      <td>Silver</td>\n",
       "      <td>0.0</td>\n",
       "    </tr>\n",
       "    <tr>\n",
       "      <th>4</th>\n",
       "      <td>22890252</td>\n",
       "      <td>19269962</td>\n",
       "      <td>Crime</td>\n",
       "      <td>2018-01-13</td>\n",
       "      <td>Auto</td>\n",
       "      <td>No</td>\n",
       "      <td>Material only</td>\n",
       "      <td>2680.0</td>\n",
       "      <td>1.0</td>\n",
       "      <td>No</td>\n",
       "      <td>Male</td>\n",
       "      <td>1977-05-13</td>\n",
       "      <td>NV</td>\n",
       "      <td>9568718691</td>\n",
       "      <td>Gold</td>\n",
       "      <td>0.0</td>\n",
       "    </tr>\n",
       "  </tbody>\n",
       "</table>\n",
       "</div>"
      ],
      "text/plain": [
       "   claim_id  customer_id      incident_cause claim_date claim_area  \\\n",
       "0  54004764     21868593        Driver error 2017-11-27       Auto   \n",
       "1  33985796     75740424               Crime 2018-10-03       Home   \n",
       "2  53522022     30308357  Other driver error 2018-02-02       Auto   \n",
       "3  13015401     47830476      Natural causes 2018-06-17       Auto   \n",
       "4  22890252     19269962               Crime 2018-01-13       Auto   \n",
       "\n",
       "  police_report     claim_type  claim_amount  total_policy_claims fraudulent  \\\n",
       "0            No  Material only        2980.0                  1.0         No   \n",
       "1       Unknown  Material only        2980.0                  3.0         No   \n",
       "2            No  Material only        3369.5                  1.0        Yes   \n",
       "3            No  Material only        1680.0                  1.0         No   \n",
       "4            No  Material only        2680.0                  1.0         No   \n",
       "\n",
       "   gender DateOfBirth State     Contact   Segment  flag  \n",
       "0  Female  1979-01-12    VT  7899168172  Platinum   0.0  \n",
       "1  Female  1970-01-13    ME  2655431264    Silver   NaN  \n",
       "2  Female  1984-03-11    TN  7986314758    Silver   0.0  \n",
       "3  Female  1986-05-01    MA  4131877945    Silver   0.0  \n",
       "4    Male  1977-05-13    NV  9568718691      Gold   0.0  "
      ]
     },
     "execution_count": 905,
     "metadata": {},
     "output_type": "execute_result"
    }
   ],
   "source": [
    "cust_claim.head()"
   ]
  },
  {
   "cell_type": "markdown",
   "id": "e602d108-84b7-45dd-af13-ba8e042f0378",
   "metadata": {},
   "source": [
    "### Q7. Calculate the age of customers in years. Based on the age, categorize the customers according to the below criteria\n",
    "* **Children < 18**\n",
    "* **Youth 18-30**\n",
    "* **Adult 30-60**\n",
    "* **Senior > 60**"
   ]
  },
  {
   "cell_type": "code",
   "execution_count": 944,
   "id": "21988cd1-6040-47a2-b071-d5fba20f73a5",
   "metadata": {},
   "outputs": [
    {
     "data": {
      "text/html": [
       "<div>\n",
       "<style scoped>\n",
       "    .dataframe tbody tr th:only-of-type {\n",
       "        vertical-align: middle;\n",
       "    }\n",
       "\n",
       "    .dataframe tbody tr th {\n",
       "        vertical-align: top;\n",
       "    }\n",
       "\n",
       "    .dataframe thead th {\n",
       "        text-align: right;\n",
       "    }\n",
       "</style>\n",
       "<table border=\"1\" class=\"dataframe\">\n",
       "  <thead>\n",
       "    <tr style=\"text-align: right;\">\n",
       "      <th></th>\n",
       "      <th>claim_id</th>\n",
       "      <th>customer_id</th>\n",
       "      <th>incident_cause</th>\n",
       "      <th>claim_date</th>\n",
       "      <th>claim_area</th>\n",
       "      <th>police_report</th>\n",
       "      <th>claim_type</th>\n",
       "      <th>claim_amount</th>\n",
       "      <th>total_policy_claims</th>\n",
       "      <th>fraudulent</th>\n",
       "      <th>gender</th>\n",
       "      <th>DateOfBirth</th>\n",
       "      <th>State</th>\n",
       "      <th>Contact</th>\n",
       "      <th>Segment</th>\n",
       "      <th>flag</th>\n",
       "      <th>age</th>\n",
       "      <th>age_cat</th>\n",
       "    </tr>\n",
       "  </thead>\n",
       "  <tbody>\n",
       "    <tr>\n",
       "      <th>0</th>\n",
       "      <td>54004764</td>\n",
       "      <td>21868593</td>\n",
       "      <td>Driver error</td>\n",
       "      <td>2017-11-27</td>\n",
       "      <td>Auto</td>\n",
       "      <td>No</td>\n",
       "      <td>Material only</td>\n",
       "      <td>2980.0</td>\n",
       "      <td>1.0</td>\n",
       "      <td>No</td>\n",
       "      <td>Female</td>\n",
       "      <td>1979-01-12</td>\n",
       "      <td>VT</td>\n",
       "      <td>7899168172</td>\n",
       "      <td>Platinum</td>\n",
       "      <td>0.0</td>\n",
       "      <td>46</td>\n",
       "      <td>Adult</td>\n",
       "    </tr>\n",
       "    <tr>\n",
       "      <th>1</th>\n",
       "      <td>33985796</td>\n",
       "      <td>75740424</td>\n",
       "      <td>Crime</td>\n",
       "      <td>2018-10-03</td>\n",
       "      <td>Home</td>\n",
       "      <td>Unknown</td>\n",
       "      <td>Material only</td>\n",
       "      <td>2980.0</td>\n",
       "      <td>3.0</td>\n",
       "      <td>No</td>\n",
       "      <td>Female</td>\n",
       "      <td>1970-01-13</td>\n",
       "      <td>ME</td>\n",
       "      <td>2655431264</td>\n",
       "      <td>Silver</td>\n",
       "      <td>NaN</td>\n",
       "      <td>55</td>\n",
       "      <td>Adult</td>\n",
       "    </tr>\n",
       "    <tr>\n",
       "      <th>2</th>\n",
       "      <td>53522022</td>\n",
       "      <td>30308357</td>\n",
       "      <td>Other driver error</td>\n",
       "      <td>2018-02-02</td>\n",
       "      <td>Auto</td>\n",
       "      <td>No</td>\n",
       "      <td>Material only</td>\n",
       "      <td>3369.5</td>\n",
       "      <td>1.0</td>\n",
       "      <td>Yes</td>\n",
       "      <td>Female</td>\n",
       "      <td>1984-03-11</td>\n",
       "      <td>TN</td>\n",
       "      <td>7986314758</td>\n",
       "      <td>Silver</td>\n",
       "      <td>0.0</td>\n",
       "      <td>41</td>\n",
       "      <td>Adult</td>\n",
       "    </tr>\n",
       "    <tr>\n",
       "      <th>3</th>\n",
       "      <td>13015401</td>\n",
       "      <td>47830476</td>\n",
       "      <td>Natural causes</td>\n",
       "      <td>2018-06-17</td>\n",
       "      <td>Auto</td>\n",
       "      <td>No</td>\n",
       "      <td>Material only</td>\n",
       "      <td>1680.0</td>\n",
       "      <td>1.0</td>\n",
       "      <td>No</td>\n",
       "      <td>Female</td>\n",
       "      <td>1986-05-01</td>\n",
       "      <td>MA</td>\n",
       "      <td>4131877945</td>\n",
       "      <td>Silver</td>\n",
       "      <td>0.0</td>\n",
       "      <td>39</td>\n",
       "      <td>Adult</td>\n",
       "    </tr>\n",
       "    <tr>\n",
       "      <th>4</th>\n",
       "      <td>22890252</td>\n",
       "      <td>19269962</td>\n",
       "      <td>Crime</td>\n",
       "      <td>2018-01-13</td>\n",
       "      <td>Auto</td>\n",
       "      <td>No</td>\n",
       "      <td>Material only</td>\n",
       "      <td>2680.0</td>\n",
       "      <td>1.0</td>\n",
       "      <td>No</td>\n",
       "      <td>Male</td>\n",
       "      <td>1977-05-13</td>\n",
       "      <td>NV</td>\n",
       "      <td>9568718691</td>\n",
       "      <td>Gold</td>\n",
       "      <td>0.0</td>\n",
       "      <td>48</td>\n",
       "      <td>Adult</td>\n",
       "    </tr>\n",
       "  </tbody>\n",
       "</table>\n",
       "</div>"
      ],
      "text/plain": [
       "   claim_id  customer_id      incident_cause claim_date claim_area  \\\n",
       "0  54004764     21868593        Driver error 2017-11-27       Auto   \n",
       "1  33985796     75740424               Crime 2018-10-03       Home   \n",
       "2  53522022     30308357  Other driver error 2018-02-02       Auto   \n",
       "3  13015401     47830476      Natural causes 2018-06-17       Auto   \n",
       "4  22890252     19269962               Crime 2018-01-13       Auto   \n",
       "\n",
       "  police_report     claim_type  claim_amount  total_policy_claims fraudulent  \\\n",
       "0            No  Material only        2980.0                  1.0         No   \n",
       "1       Unknown  Material only        2980.0                  3.0         No   \n",
       "2            No  Material only        3369.5                  1.0        Yes   \n",
       "3            No  Material only        1680.0                  1.0         No   \n",
       "4            No  Material only        2680.0                  1.0         No   \n",
       "\n",
       "   gender DateOfBirth State     Contact   Segment  flag  age age_cat  \n",
       "0  Female  1979-01-12    VT  7899168172  Platinum   0.0   46   Adult  \n",
       "1  Female  1970-01-13    ME  2655431264    Silver   NaN   55   Adult  \n",
       "2  Female  1984-03-11    TN  7986314758    Silver   0.0   41   Adult  \n",
       "3  Female  1986-05-01    MA  4131877945    Silver   0.0   39   Adult  \n",
       "4    Male  1977-05-13    NV  9568718691      Gold   0.0   48   Adult  "
      ]
     },
     "execution_count": 944,
     "metadata": {},
     "output_type": "execute_result"
    }
   ],
   "source": [
    "cust_claim['age']= pd.Timestamp.today().year-cust_claim.DateOfBirth.dt.year\n",
    "cust_claim['age_cat']= pd.cut(cust_claim.age , bins=[0,18,30,60,120] , labels=['Children','Younth','Adult','Senior'])\n",
    "cust_claim.head()"
   ]
  },
  {
   "cell_type": "code",
   "execution_count": 1021,
   "id": "17c14f8b-b353-49e2-81a1-74d54022a682",
   "metadata": {},
   "outputs": [
    {
     "data": {
      "text/html": [
       "<div>\n",
       "<style scoped>\n",
       "    .dataframe tbody tr th:only-of-type {\n",
       "        vertical-align: middle;\n",
       "    }\n",
       "\n",
       "    .dataframe tbody tr th {\n",
       "        vertical-align: top;\n",
       "    }\n",
       "\n",
       "    .dataframe thead th {\n",
       "        text-align: right;\n",
       "    }\n",
       "</style>\n",
       "<table border=\"1\" class=\"dataframe\">\n",
       "  <thead>\n",
       "    <tr style=\"text-align: right;\">\n",
       "      <th></th>\n",
       "      <th>flag</th>\n",
       "    </tr>\n",
       "    <tr>\n",
       "      <th>age_cat</th>\n",
       "      <th></th>\n",
       "    </tr>\n",
       "  </thead>\n",
       "  <tbody>\n",
       "    <tr>\n",
       "      <th>Children</th>\n",
       "      <td>0</td>\n",
       "    </tr>\n",
       "    <tr>\n",
       "      <th>Younth</th>\n",
       "      <td>114</td>\n",
       "    </tr>\n",
       "    <tr>\n",
       "      <th>Adult</th>\n",
       "      <td>578</td>\n",
       "    </tr>\n",
       "    <tr>\n",
       "      <th>Senior</th>\n",
       "      <td>97</td>\n",
       "    </tr>\n",
       "  </tbody>\n",
       "</table>\n",
       "</div>"
      ],
      "text/plain": [
       "          flag\n",
       "age_cat       \n",
       "Children     0\n",
       "Younth     114\n",
       "Adult      578\n",
       "Senior      97"
      ]
     },
     "execution_count": 1021,
     "metadata": {},
     "output_type": "execute_result"
    }
   ],
   "source": [
    "cust_claim.groupby('age_cat', observed= False)[['flag']].count()"
   ]
  },
  {
   "cell_type": "markdown",
   "id": "ed6026e7-403d-4bcf-bbf2-d7061acbc881",
   "metadata": {},
   "source": [
    "### Q8. What is the average amount claimed by the customers from various segments?"
   ]
  },
  {
   "cell_type": "code",
   "execution_count": 949,
   "id": "0077c23c-2aa5-4a9b-81c9-6593067b0a6b",
   "metadata": {},
   "outputs": [
    {
     "data": {
      "text/html": [
       "<div>\n",
       "<style scoped>\n",
       "    .dataframe tbody tr th:only-of-type {\n",
       "        vertical-align: middle;\n",
       "    }\n",
       "\n",
       "    .dataframe tbody tr th {\n",
       "        vertical-align: top;\n",
       "    }\n",
       "\n",
       "    .dataframe thead th {\n",
       "        text-align: right;\n",
       "    }\n",
       "</style>\n",
       "<table border=\"1\" class=\"dataframe\">\n",
       "  <thead>\n",
       "    <tr style=\"text-align: right;\">\n",
       "      <th></th>\n",
       "      <th>claim_amount</th>\n",
       "    </tr>\n",
       "    <tr>\n",
       "      <th>Segment</th>\n",
       "      <th></th>\n",
       "    </tr>\n",
       "  </thead>\n",
       "  <tbody>\n",
       "    <tr>\n",
       "      <th>Gold</th>\n",
       "      <td>12829.631974</td>\n",
       "    </tr>\n",
       "    <tr>\n",
       "      <th>Platinum</th>\n",
       "      <td>12341.952267</td>\n",
       "    </tr>\n",
       "    <tr>\n",
       "      <th>Silver</th>\n",
       "      <td>12208.435570</td>\n",
       "    </tr>\n",
       "  </tbody>\n",
       "</table>\n",
       "</div>"
      ],
      "text/plain": [
       "          claim_amount\n",
       "Segment               \n",
       "Gold      12829.631974\n",
       "Platinum  12341.952267\n",
       "Silver    12208.435570"
      ]
     },
     "execution_count": 949,
     "metadata": {},
     "output_type": "execute_result"
    }
   ],
   "source": [
    "cust_claim.groupby('Segment')[['claim_amount']].mean()"
   ]
  },
  {
   "cell_type": "markdown",
   "id": "3b99fe7e-c042-43eb-a8c4-828d0c211f2e",
   "metadata": {},
   "source": [
    "### Q9. What is the total claim amount based on incident cause for all the claims that have been done at least 20 days prior to 1st of October, 2018."
   ]
  },
  {
   "cell_type": "code",
   "execution_count": 1053,
   "id": "7066b92f-1783-40b2-bc65-f43c42b18fc6",
   "metadata": {},
   "outputs": [
    {
     "data": {
      "text/html": [
       "<div>\n",
       "<style scoped>\n",
       "    .dataframe tbody tr th:only-of-type {\n",
       "        vertical-align: middle;\n",
       "    }\n",
       "\n",
       "    .dataframe tbody tr th {\n",
       "        vertical-align: top;\n",
       "    }\n",
       "\n",
       "    .dataframe thead th {\n",
       "        text-align: right;\n",
       "    }\n",
       "</style>\n",
       "<table border=\"1\" class=\"dataframe\">\n",
       "  <thead>\n",
       "    <tr style=\"text-align: right;\">\n",
       "      <th></th>\n",
       "      <th>incident_cause</th>\n",
       "      <th>claim_amount</th>\n",
       "    </tr>\n",
       "  </thead>\n",
       "  <tbody>\n",
       "    <tr>\n",
       "      <th>0</th>\n",
       "      <td>Total_Crime</td>\n",
       "      <td>7.244484e+05</td>\n",
       "    </tr>\n",
       "    <tr>\n",
       "      <th>1</th>\n",
       "      <td>Total_Driver error</td>\n",
       "      <td>3.319952e+06</td>\n",
       "    </tr>\n",
       "    <tr>\n",
       "      <th>2</th>\n",
       "      <td>Total_Natural causes</td>\n",
       "      <td>1.314121e+06</td>\n",
       "    </tr>\n",
       "    <tr>\n",
       "      <th>3</th>\n",
       "      <td>Total_Other causes</td>\n",
       "      <td>3.724985e+06</td>\n",
       "    </tr>\n",
       "    <tr>\n",
       "      <th>4</th>\n",
       "      <td>Total_Other driver error</td>\n",
       "      <td>3.318770e+06</td>\n",
       "    </tr>\n",
       "  </tbody>\n",
       "</table>\n",
       "</div>"
      ],
      "text/plain": [
       "             incident_cause  claim_amount\n",
       "0               Total_Crime  7.244484e+05\n",
       "1        Total_Driver error  3.319952e+06\n",
       "2      Total_Natural causes  1.314121e+06\n",
       "3        Total_Other causes  3.724985e+06\n",
       "4  Total_Other driver error  3.318770e+06"
      ]
     },
     "execution_count": 1053,
     "metadata": {},
     "output_type": "execute_result"
    }
   ],
   "source": [
    "prior_date= pd.to_datetime('01-10-2018',dayfirst= True)- pd.DateOffset(days=20)\n",
    "cust_claim[cust_claim.claim_date < prior_date].groupby('incident_cause')[['claim_amount']].sum().add_prefix('Total_', axis=0).reset_index()"
   ]
  },
  {
   "cell_type": "markdown",
   "id": "db1823c3-e8d5-4111-940a-2c3ee631e97e",
   "metadata": {},
   "source": [
    "### Q10. How many adults from TX, DE and AK claimed insurance for driver related issues and causes?"
   ]
  },
  {
   "cell_type": "code",
   "execution_count": 1164,
   "id": "67e98382-ce38-46b9-993a-01ada4ab03d4",
   "metadata": {},
   "outputs": [
    {
     "name": "stdout",
     "output_type": "stream",
     "text": [
      "28 adults from TX, DE and AK claimed insurance for driver related issues and causes. \n",
      "\n",
      " States Wise Adults\n"
     ]
    },
    {
     "data": {
      "text/html": [
       "<div>\n",
       "<style scoped>\n",
       "    .dataframe tbody tr th:only-of-type {\n",
       "        vertical-align: middle;\n",
       "    }\n",
       "\n",
       "    .dataframe tbody tr th {\n",
       "        vertical-align: top;\n",
       "    }\n",
       "\n",
       "    .dataframe thead th {\n",
       "        text-align: right;\n",
       "    }\n",
       "</style>\n",
       "<table border=\"1\" class=\"dataframe\">\n",
       "  <thead>\n",
       "    <tr style=\"text-align: right;\">\n",
       "      <th></th>\n",
       "      <th>age_cat</th>\n",
       "    </tr>\n",
       "    <tr>\n",
       "      <th>State</th>\n",
       "      <th></th>\n",
       "    </tr>\n",
       "  </thead>\n",
       "  <tbody>\n",
       "    <tr>\n",
       "      <th>AK</th>\n",
       "      <td>10</td>\n",
       "    </tr>\n",
       "    <tr>\n",
       "      <th>DE</th>\n",
       "      <td>10</td>\n",
       "    </tr>\n",
       "    <tr>\n",
       "      <th>TX</th>\n",
       "      <td>8</td>\n",
       "    </tr>\n",
       "  </tbody>\n",
       "</table>\n",
       "</div>"
      ],
      "text/plain": [
       "       age_cat\n",
       "State         \n",
       "AK          10\n",
       "DE          10\n",
       "TX           8"
      ]
     },
     "execution_count": 1164,
     "metadata": {},
     "output_type": "execute_result"
    }
   ],
   "source": [
    "no_adults= cust_claim[(cust_claim.age_cat == 'Adult') & (cust_claim.State.isin(['TX','DE','AK'])) & \n",
    "                                        (cust_claim.incident_cause.str.contains('driver', case=False, na=False)) ].groupby('State')[['age_cat']].count()\n",
    "print(no_adults.sum().to_string(index=False), 'adults from TX, DE and AK claimed insurance for driver related issues and causes. \\n\\n States Wise Adults')\n",
    "no_adults"
   ]
  },
  {
   "cell_type": "markdown",
   "id": "ccddb0fa-22f5-47f4-a49e-0233a4a6e2b5",
   "metadata": {},
   "source": [
    "### Q11. Draw a pie chart between the aggregated value of claim amount based on gender and segment. Represent the claim amount as a percentage on the pie chart."
   ]
  },
  {
   "cell_type": "code",
   "execution_count": 1267,
   "id": "2b33d5c8-7a7d-4b02-9905-a9b753a8bde7",
   "metadata": {},
   "outputs": [
    {
     "data": {
      "text/plain": [
       "array([<Axes: ylabel='Female'>, <Axes: ylabel='Male'>], dtype=object)"
      ]
     },
     "execution_count": 1267,
     "metadata": {},
     "output_type": "execute_result"
    },
    {
     "data": {
      "image/png": "[encoded data removed]",
      "text/plain": [
       "<Figure size 1000x600 with 2 Axes>"
      ]
     },
     "metadata": {},
     "output_type": "display_data"
    }
   ],
   "source": [
    "gen_seg= pd.pivot_table(data = cust_claim , columns='gender' , index='Segment' , values='claim_amount' , aggfunc='sum')\n",
    "gen_seg.plot(kind='pie', subplots=True ,autopct='%.2f%%' , figsize=(10, 6), legend=False )"
   ]
  },
  {
   "cell_type": "code",
   "execution_count": 1269,
   "id": "f5aab4ef-ca8d-4339-853c-eaf2ae16a02b",
   "metadata": {},
   "outputs": [
    {
     "data": {
      "text/plain": [
       "array([<Axes: ylabel='Gold'>, <Axes: ylabel='Platinum'>,\n",
       "       <Axes: ylabel='Silver'>], dtype=object)"
      ]
     },
     "execution_count": 1269,
     "metadata": {},
     "output_type": "execute_result"
    },
    {
     "data": {
      "image/png": "[encoded data removed]",
      "text/plain": [
       "<Figure size 1000x600 with 3 Axes>"
      ]
     },
     "metadata": {},
     "output_type": "display_data"
    }
   ],
   "source": [
    "gen_seg.T.plot(kind='pie', subplots=True ,autopct='%.2f%%' , figsize=(10, 6), legend=False )"
   ]
  },
  {
   "cell_type": "code",
   "execution_count": 1260,
   "id": "1777ef1d-cd0a-4a65-9aa4-6d7ecb50929b",
   "metadata": {},
   "outputs": [
    {
     "data": {
      "image/png": "[encoded data removed]",
      "text/plain": [
       "<Figure size 500x500 with 1 Axes>"
      ]
     },
     "metadata": {},
     "output_type": "display_data"
    }
   ],
   "source": [
    "combined_group = cust_claim.groupby(['gender', 'Segment'])['claim_amount'].sum()\n",
    "plt.figure(figsize=(5,5))\n",
    "plt.pie(combined_group, labels=combined_group.index, autopct='%.2f%%', startangle=140)\n",
    "plt.title(\"Claim Amount Distribution by Gender and Segment\")\n",
    "plt.show()"
   ]
  },
  {
   "cell_type": "markdown",
   "id": "0fc72b53-b971-4584-abd1-3960b61ecd09",
   "metadata": {},
   "source": [
    "### Q12. Among males and females, which gender had claimed the most for any type of driver related issues? E.g. This metric can be compared using a bar chart"
   ]
  },
  {
   "cell_type": "code",
   "execution_count": 1344,
   "id": "518a9531-38f4-4be6-8c19-93e6c89b7a63",
   "metadata": {},
   "outputs": [],
   "source": [
    "gender_count =  pd.DataFrame(cust_claim[cust_claim.incident_cause.str.contains('driver', case= False , na= False)].gender.value_counts())\n",
    "gender_amount = cust_claim[cust_claim.incident_cause.str.contains('driver', case= False , na= False)].groupby('gender')[['claim_amount']].sum()"
   ]
  },
  {
   "cell_type": "code",
   "execution_count": 1440,
   "id": "80548d97-8981-43b0-9e32-d1a2ed81d400",
   "metadata": {},
   "outputs": [
    {
     "data": {
      "image/png": "[encoded data removed]",
      "text/plain": [
       "<Figure size 600x400 with 1 Axes>"
      ]
     },
     "metadata": {},
     "output_type": "display_data"
    }
   ],
   "source": [
    "gender_count.plot(kind='bar',legend= False , figsize=(6,4) , width=0.4 , title= 'Gender wise Number of Claims for any type of Driver')\n",
    "plt.xlabel('Gender')\n",
    "plt.ylabel('No_Of_Claims')\n",
    "plt.show()"
   ]
  },
  {
   "cell_type": "code",
   "execution_count": 1403,
   "id": "8127d65f-75fb-4cef-b4e6-17aa7184a3ec",
   "metadata": {},
   "outputs": [
    {
     "data": {
      "image/png": "[encoded data removed]",
      "text/plain": [
       "<Figure size 600x400 with 1 Axes>"
      ]
     },
     "metadata": {},
     "output_type": "display_data"
    }
   ],
   "source": [
    "gender_amount.plot(kind='bar',legend= False , figsize=(6,4) , width=0.4 , title= 'Gender wise Claim Amount for any type of Driver')\n",
    "plt.xlabel('Gender')\n",
    "plt.ylabel('Total_Claim_Amount')\n",
    "plt.show()"
   ]
  },
  {
   "cell_type": "markdown",
   "id": "8c13d2d1-197c-4378-b738-747cc168ab3f",
   "metadata": {},
   "source": [
    "### Q13. Which age group had the maximum fraudulent policy claims? Visualize it on a bar chart."
   ]
  },
  {
   "cell_type": "code",
   "execution_count": 1476,
   "id": "287c4bae-10c7-4ca5-8068-715c22787502",
   "metadata": {},
   "outputs": [
    {
     "data": {
      "text/html": [
       "<div>\n",
       "<style scoped>\n",
       "    .dataframe tbody tr th:only-of-type {\n",
       "        vertical-align: middle;\n",
       "    }\n",
       "\n",
       "    .dataframe tbody tr th {\n",
       "        vertical-align: top;\n",
       "    }\n",
       "\n",
       "    .dataframe thead th {\n",
       "        text-align: right;\n",
       "    }\n",
       "</style>\n",
       "<table border=\"1\" class=\"dataframe\">\n",
       "  <thead>\n",
       "    <tr style=\"text-align: right;\">\n",
       "      <th></th>\n",
       "      <th>age_cat</th>\n",
       "      <th>No_of_fraudulent</th>\n",
       "    </tr>\n",
       "  </thead>\n",
       "  <tbody>\n",
       "    <tr>\n",
       "      <th>0</th>\n",
       "      <td>Children</td>\n",
       "      <td>0</td>\n",
       "    </tr>\n",
       "    <tr>\n",
       "      <th>1</th>\n",
       "      <td>Younth</td>\n",
       "      <td>25</td>\n",
       "    </tr>\n",
       "    <tr>\n",
       "      <th>2</th>\n",
       "      <td>Adult</td>\n",
       "      <td>187</td>\n",
       "    </tr>\n",
       "    <tr>\n",
       "      <th>3</th>\n",
       "      <td>Senior</td>\n",
       "      <td>35</td>\n",
       "    </tr>\n",
       "  </tbody>\n",
       "</table>\n",
       "</div>"
      ],
      "text/plain": [
       "    age_cat  No_of_fraudulent\n",
       "0  Children                 0\n",
       "1    Younth                25\n",
       "2     Adult               187\n",
       "3    Senior                35"
      ]
     },
     "execution_count": 1476,
     "metadata": {},
     "output_type": "execute_result"
    }
   ],
   "source": [
    "fraudulent_age= cust_claim[cust_claim.fraudulent.str.contains('yes', case= False)].groupby('age_cat', \n",
    "                                                                    observed= False)[['fraudulent']].count().add_prefix('No_of_',axis=1).reset_index()\n",
    "fraudulent_age"
   ]
  },
  {
   "cell_type": "code",
   "execution_count": 1489,
   "id": "486faed4-7d9c-4a85-b3db-67e6d0bcb371",
   "metadata": {},
   "outputs": [
    {
     "data": {
      "image/png": "[encoded data removed]",
      "text/plain": [
       "<Figure size 640x480 with 1 Axes>"
      ]
     },
     "metadata": {},
     "output_type": "display_data"
    }
   ],
   "source": [
    "fraudulent_age.plot(kind='bar' , x='age_cat' , y='No_of_fraudulent', legend= False , title= 'The maximum fraudulent policy claims By Age Group' )\n",
    "plt.ylabel('No_of_fraudulent')\n",
    "plt.xlabel('Age_Group')\n",
    "plt.show()"
   ]
  },
  {
   "cell_type": "markdown",
   "id": "468ec7c0-6eb3-4fb6-a23c-3f219f975c2c",
   "metadata": {},
   "source": [
    "### Q14. Visualize the monthly trend of the total amount that has been claimed by the customers. Ensure that on the “month” axis, the month is in a chronological order not alphabetical order."
   ]
  },
  {
   "cell_type": "code",
   "execution_count": 1667,
   "id": "7dba3bf1-09ec-4558-b84b-8b5215486657",
   "metadata": {},
   "outputs": [
    {
     "data": {
      "text/html": [
       "<div>\n",
       "<style scoped>\n",
       "    .dataframe tbody tr th:only-of-type {\n",
       "        vertical-align: middle;\n",
       "    }\n",
       "\n",
       "    .dataframe tbody tr th {\n",
       "        vertical-align: top;\n",
       "    }\n",
       "\n",
       "    .dataframe thead th {\n",
       "        text-align: right;\n",
       "    }\n",
       "</style>\n",
       "<table border=\"1\" class=\"dataframe\">\n",
       "  <thead>\n",
       "    <tr style=\"text-align: right;\">\n",
       "      <th></th>\n",
       "      <th>month_name</th>\n",
       "      <th>claim_amount</th>\n",
       "    </tr>\n",
       "  </thead>\n",
       "  <tbody>\n",
       "    <tr>\n",
       "      <th>0</th>\n",
       "      <td>January</td>\n",
       "      <td>1.331992e+06</td>\n",
       "    </tr>\n",
       "    <tr>\n",
       "      <th>1</th>\n",
       "      <td>February</td>\n",
       "      <td>1.169906e+06</td>\n",
       "    </tr>\n",
       "    <tr>\n",
       "      <th>2</th>\n",
       "      <td>March</td>\n",
       "      <td>1.320080e+06</td>\n",
       "    </tr>\n",
       "    <tr>\n",
       "      <th>3</th>\n",
       "      <td>April</td>\n",
       "      <td>1.293886e+06</td>\n",
       "    </tr>\n",
       "    <tr>\n",
       "      <th>4</th>\n",
       "      <td>May</td>\n",
       "      <td>1.114189e+06</td>\n",
       "    </tr>\n",
       "    <tr>\n",
       "      <th>5</th>\n",
       "      <td>June</td>\n",
       "      <td>1.278826e+06</td>\n",
       "    </tr>\n",
       "    <tr>\n",
       "      <th>6</th>\n",
       "      <td>July</td>\n",
       "      <td>1.379010e+06</td>\n",
       "    </tr>\n",
       "    <tr>\n",
       "      <th>7</th>\n",
       "      <td>August</td>\n",
       "      <td>9.111950e+05</td>\n",
       "    </tr>\n",
       "    <tr>\n",
       "      <th>8</th>\n",
       "      <td>September</td>\n",
       "      <td>9.828598e+05</td>\n",
       "    </tr>\n",
       "    <tr>\n",
       "      <th>9</th>\n",
       "      <td>October</td>\n",
       "      <td>1.447673e+06</td>\n",
       "    </tr>\n",
       "    <tr>\n",
       "      <th>10</th>\n",
       "      <td>November</td>\n",
       "      <td>6.011194e+05</td>\n",
       "    </tr>\n",
       "    <tr>\n",
       "      <th>11</th>\n",
       "      <td>December</td>\n",
       "      <td>6.966987e+05</td>\n",
       "    </tr>\n",
       "  </tbody>\n",
       "</table>\n",
       "</div>"
      ],
      "text/plain": [
       "   month_name  claim_amount\n",
       "0     January  1.331992e+06\n",
       "1    February  1.169906e+06\n",
       "2       March  1.320080e+06\n",
       "3       April  1.293886e+06\n",
       "4         May  1.114189e+06\n",
       "5        June  1.278826e+06\n",
       "6        July  1.379010e+06\n",
       "7      August  9.111950e+05\n",
       "8   September  9.828598e+05\n",
       "9     October  1.447673e+06\n",
       "10   November  6.011194e+05\n",
       "11   December  6.966987e+05"
      ]
     },
     "execution_count": 1667,
     "metadata": {},
     "output_type": "execute_result"
    }
   ],
   "source": [
    "month= cust_claim.claim_date.dt.month.rename('month')\n",
    "month_name= cust_claim.claim_date.dt.month_name().rename('month_name')\n",
    "monthly_trend= cust_claim.groupby([month,month_name])[['claim_amount']].sum().reset_index().drop(columns='month')\n",
    "monthly_trend"
   ]
  },
  {
   "cell_type": "code",
   "execution_count": 1727,
   "id": "70b1d641-8ce3-49e0-86ff-07c6cee456c2",
   "metadata": {},
   "outputs": [],
   "source": [
    "## monthly_trend1= cust_claim.groupby([month,month_name])[['claim_amount']].sum().droplevel(level=0)"
   ]
  },
  {
   "cell_type": "code",
   "execution_count": 1773,
   "id": "ae56556e-760b-43bb-90d6-fe80e4edf172",
   "metadata": {},
   "outputs": [
    {
     "data": {
      "image/png": "[encoded data removed]",
      "text/plain": [
       "<Figure size 1200x400 with 1 Axes>"
      ]
     },
     "metadata": {},
     "output_type": "display_data"
    }
   ],
   "source": [
    "### By using the seaborn:\n",
    "\n",
    "plt.figure(figsize=(12,4))\n",
    "sns.lineplot(data= monthly_trend, x='month_name', y='claim_amount', marker='o' )\n",
    "plt.title('Month wise Claimed Amount by the Customer')\n",
    "plt.ylabel('Claim_amount')\n",
    "plt.xlabel('Months_Name')\n",
    "plt.show()"
   ]
  },
  {
   "cell_type": "code",
   "execution_count": 1771,
   "id": "25a30cd6-feff-4354-aa72-81bc0f32b6ec",
   "metadata": {},
   "outputs": [
    {
     "data": {
      "image/png": "[encoded data removed]",
      "text/plain": [
       "<Figure size 1200x400 with 1 Axes>"
      ]
     },
     "metadata": {},
     "output_type": "display_data"
    }
   ],
   "source": [
    "### By using pandas:\n",
    "\n",
    "monthly_trend.plot(kind='line',x='month_name', legend= False , title='Month wise Claimed Amount by the Customer' , marker='o', figsize=(12,4),rot=45)\n",
    "plt.ylabel('Claim_amount')\n",
    "plt.xlabel('Months_Name')\n",
    "plt.show()"
   ]
  },
  {
   "cell_type": "markdown",
   "id": "240ace84-f521-435a-9181-9b2cecc2ad94",
   "metadata": {},
   "source": [
    "### Q15. What is the average claim amount for gender and age categories and suitably represent the above using a facetted bar chart, one facet that represents fraudulent claims and the other for non-fraudulent claims."
   ]
  },
  {
   "cell_type": "code",
   "execution_count": 1892,
   "id": "ea08d6a8-e282-48bf-a0d6-26c29d102313",
   "metadata": {},
   "outputs": [
    {
     "data": {
      "text/html": [
       "<div>\n",
       "<style scoped>\n",
       "    .dataframe tbody tr th:only-of-type {\n",
       "        vertical-align: middle;\n",
       "    }\n",
       "\n",
       "    .dataframe tbody tr th {\n",
       "        vertical-align: top;\n",
       "    }\n",
       "\n",
       "    .dataframe thead th {\n",
       "        text-align: right;\n",
       "    }\n",
       "</style>\n",
       "<table border=\"1\" class=\"dataframe\">\n",
       "  <thead>\n",
       "    <tr style=\"text-align: right;\">\n",
       "      <th></th>\n",
       "      <th>fraudulent</th>\n",
       "      <th>gender</th>\n",
       "      <th>age_cat</th>\n",
       "      <th>claim_amount</th>\n",
       "    </tr>\n",
       "  </thead>\n",
       "  <tbody>\n",
       "    <tr>\n",
       "      <th>0</th>\n",
       "      <td>No</td>\n",
       "      <td>Female</td>\n",
       "      <td>Children</td>\n",
       "      <td>NaN</td>\n",
       "    </tr>\n",
       "    <tr>\n",
       "      <th>1</th>\n",
       "      <td>No</td>\n",
       "      <td>Female</td>\n",
       "      <td>Younth</td>\n",
       "      <td>11373.131478</td>\n",
       "    </tr>\n",
       "    <tr>\n",
       "      <th>2</th>\n",
       "      <td>No</td>\n",
       "      <td>Female</td>\n",
       "      <td>Adult</td>\n",
       "      <td>12671.301964</td>\n",
       "    </tr>\n",
       "    <tr>\n",
       "      <th>3</th>\n",
       "      <td>No</td>\n",
       "      <td>Female</td>\n",
       "      <td>Senior</td>\n",
       "      <td>11584.229278</td>\n",
       "    </tr>\n",
       "    <tr>\n",
       "      <th>4</th>\n",
       "      <td>No</td>\n",
       "      <td>Male</td>\n",
       "      <td>Children</td>\n",
       "      <td>NaN</td>\n",
       "    </tr>\n",
       "  </tbody>\n",
       "</table>\n",
       "</div>"
      ],
      "text/plain": [
       "  fraudulent  gender   age_cat  claim_amount\n",
       "0         No  Female  Children           NaN\n",
       "1         No  Female    Younth  11373.131478\n",
       "2         No  Female     Adult  12671.301964\n",
       "3         No  Female    Senior  11584.229278\n",
       "4         No    Male  Children           NaN"
      ]
     },
     "execution_count": 1892,
     "metadata": {},
     "output_type": "execute_result"
    }
   ],
   "source": [
    "average_claim_amount= cust_claim.groupby(['fraudulent','gender','age_cat'],observed= False)[['claim_amount']].mean().reset_index()\n",
    "average_claim_amount.head()"
   ]
  },
  {
   "cell_type": "code",
   "execution_count": 1894,
   "id": "43133270-1c35-4c07-8192-854999b65241",
   "metadata": {},
   "outputs": [
    {
     "data": {
      "text/plain": [
       "<seaborn.axisgrid.FacetGrid at 0x27dc81f0620>"
      ]
     },
     "execution_count": 1894,
     "metadata": {},
     "output_type": "execute_result"
    },
    {
     "data": {
      "image/png": "[encoded data removed]",
      "text/plain": [
       "<Figure size 1100.25x500 with 2 Axes>"
      ]
     },
     "metadata": {},
     "output_type": "display_data"
    }
   ],
   "source": [
    "sns.catplot( data=cust_claim, kind='bar', hue='gender', y='claim_amount', x='age_cat', col='fraudulent', errorbar=None, palette='Set2')"
   ]
  },
  {
   "cell_type": "markdown",
   "id": "11f31057-7f70-420f-b8f1-7943729f391e",
   "metadata": {},
   "source": [
    "### Based on the conclusions from exploratory analysis as well as suitable statistical tests, answer the below questions. Please include a detailed write-up on the parameters taken into consideration, the Hypothesis testing steps, conclusion from the p-values and the business implications of the statements."
   ]
  },
  {
   "cell_type": "markdown",
   "id": "6341a226-8212-42b6-bd1e-c5c0fe3adf49",
   "metadata": {},
   "source": [
    "### Q16. Is there any similarity in the amount claimed by males and females?"
   ]
  },
  {
   "cell_type": "code",
   "execution_count": 1908,
   "id": "b4fe619d-8768-410a-9e9d-e8d4bae0771a",
   "metadata": {},
   "outputs": [
    {
     "data": {
      "text/plain": [
       "gender\n",
       "Male      556\n",
       "Female    529\n",
       "Name: count, dtype: int64"
      ]
     },
     "execution_count": 1908,
     "metadata": {},
     "output_type": "execute_result"
    }
   ],
   "source": [
    "cust_claim.gender.value_counts()"
   ]
  },
  {
   "cell_type": "code",
   "execution_count": 2008,
   "id": "97682f05-a759-4211-8cb5-317c30160573",
   "metadata": {},
   "outputs": [
    {
     "name": "stdout",
     "output_type": "stream",
     "text": [
      "Mean of male_claim_amount =  12467.681372549021\n",
      "Mean of female_cliam_amount =  12062.63470662367\n"
     ]
    }
   ],
   "source": [
    "male= cust_claim.loc[cust_claim.gender.str.contains('male' , case= False),'claim_amount']\n",
    "female= cust_claim.loc[cust_claim.gender.str.contains('female' , case= False),'claim_amount']\n",
    "print('Mean of male_claim_amount = ' , male.mean())\n",
    "print('Mean of female_cliam_amount = ' , female.mean())"
   ]
  },
  {
   "cell_type": "markdown",
   "id": "ef9a4e7c-31b1-4dfa-b5be-186f9e5411fd",
   "metadata": {},
   "source": [
    "**1. NULL Hypothesis , H0 :**\n",
    "  \n",
    "                u1 = u2\n",
    "  \n",
    "**2. ALTERNATIVE Hypothesis , Ha :**\n",
    "\n",
    "                u1 <> u2\n",
    "\n",
    "**3. CI & p-values :**\n",
    "\n",
    "                CI= 95% & p-value= 0.05\n",
    "\n",
    "**4. Perform the Test :**\n",
    "\n",
    "                t-test"
   ]
  },
  {
   "cell_type": "code",
   "execution_count": 1934,
   "id": "8d8863c0-887d-4ebf-9d7f-4f397bbf184d",
   "metadata": {},
   "outputs": [
    {
     "data": {
      "text/plain": [
       "TtestResult(statistic=0.5747549312760801, pvalue=0.5655372527682334, df=1612.0)"
      ]
     },
     "execution_count": 1934,
     "metadata": {},
     "output_type": "execute_result"
    }
   ],
   "source": [
    "stats.ttest_ind(male,female)"
   ]
  },
  {
   "cell_type": "markdown",
   "id": "2e8aa3a1-fcb0-4d67-a855-82a4633bf90a",
   "metadata": {},
   "source": [
    "**5. Rejection Rule :**\n",
    "\n",
    "                New p-value > 0.05 \n",
    "                so, We fail to reject the null hypothesis.\n",
    "\n",
    "**6. Business Conculsion :**\n",
    "\n",
    "                Male & Female Claim the same Amount  \n",
    "                Claim amounts are similar → no gender bias in claim amounts"
   ]
  },
  {
   "cell_type": "markdown",
   "id": "ec4cb445-792e-4e33-81d8-027a076a23c1",
   "metadata": {},
   "source": [
    "                                   "
   ]
  },
  {
   "cell_type": "markdown",
   "id": "2dfe6ac1-3e68-449b-b0fa-42237ac0ded0",
   "metadata": {},
   "source": [
    "### Q17. Is there any relationship between age category and segment? "
   ]
  },
  {
   "cell_type": "markdown",
   "id": "eb9f2acb-5880-4029-a54f-a4fac6aab7be",
   "metadata": {},
   "source": [
    "**1. NULL Hypothesis , H0 :**\n",
    "  \n",
    "                Age category & Segment are independent variable.\n",
    "  \n",
    "**2. ALTERNATIVE Hypothesis , Ha :**\n",
    "\n",
    "                Age category & Segment are dependent variable.\n",
    "\n",
    "**3. CI & p-values :**\n",
    "\n",
    "                CI= 95% & p-value= 0.05\n",
    "\n",
    "**4. Perform the Test :**\n",
    "\n",
    "                chi Squared Test"
   ]
  },
  {
   "cell_type": "code",
   "execution_count": 1968,
   "id": "b120526c-9fe1-4607-b248-f27f78a821b9",
   "metadata": {},
   "outputs": [
    {
     "data": {
      "text/html": [
       "<div>\n",
       "<style scoped>\n",
       "    .dataframe tbody tr th:only-of-type {\n",
       "        vertical-align: middle;\n",
       "    }\n",
       "\n",
       "    .dataframe tbody tr th {\n",
       "        vertical-align: top;\n",
       "    }\n",
       "\n",
       "    .dataframe thead th {\n",
       "        text-align: right;\n",
       "    }\n",
       "</style>\n",
       "<table border=\"1\" class=\"dataframe\">\n",
       "  <thead>\n",
       "    <tr style=\"text-align: right;\">\n",
       "      <th>Segment</th>\n",
       "      <th>Gold</th>\n",
       "      <th>Platinum</th>\n",
       "      <th>Silver</th>\n",
       "    </tr>\n",
       "    <tr>\n",
       "      <th>age_cat</th>\n",
       "      <th></th>\n",
       "      <th></th>\n",
       "      <th></th>\n",
       "    </tr>\n",
       "  </thead>\n",
       "  <tbody>\n",
       "    <tr>\n",
       "      <th>Younth</th>\n",
       "      <td>48</td>\n",
       "      <td>44</td>\n",
       "      <td>49</td>\n",
       "    </tr>\n",
       "    <tr>\n",
       "      <th>Adult</th>\n",
       "      <td>282</td>\n",
       "      <td>271</td>\n",
       "      <td>259</td>\n",
       "    </tr>\n",
       "    <tr>\n",
       "      <th>Senior</th>\n",
       "      <td>45</td>\n",
       "      <td>47</td>\n",
       "      <td>40</td>\n",
       "    </tr>\n",
       "  </tbody>\n",
       "</table>\n",
       "</div>"
      ],
      "text/plain": [
       "Segment  Gold  Platinum  Silver\n",
       "age_cat                        \n",
       "Younth     48        44      49\n",
       "Adult     282       271     259\n",
       "Senior     45        47      40"
      ]
     },
     "execution_count": 1968,
     "metadata": {},
     "output_type": "execute_result"
    }
   ],
   "source": [
    "obs_freq = pd.crosstab(index=cust_claim.age_cat , columns=cust_claim.Segment)\n",
    "obs_freq"
   ]
  },
  {
   "cell_type": "code",
   "execution_count": 1970,
   "id": "c9644a04-ec22-49ed-b9d9-6d3ce2b56215",
   "metadata": {},
   "outputs": [
    {
     "data": {
      "text/plain": [
       "Chi2ContingencyResult(statistic=0.8740846190991387, pvalue=0.9282490030693169, dof=4, expected_freq=array([[ 48.73271889,  47.04331797,  45.22396313],\n",
       "       [280.64516129, 270.91612903, 260.43870968],\n",
       "       [ 45.62211982,  44.040553  ,  42.33732719]]))"
      ]
     },
     "execution_count": 1970,
     "metadata": {},
     "output_type": "execute_result"
    }
   ],
   "source": [
    "stats.chi2_contingency(obs_freq)"
   ]
  },
  {
   "cell_type": "markdown",
   "id": "95188345-46c7-4732-8d9c-a4b9126042d4",
   "metadata": {},
   "source": [
    "**5. Rejection Rule :**\n",
    "\n",
    "                At p value= 0.05 & dof = 4 , chi-score = 9.4\n",
    "                our chi-score= 0.87\n",
    "\n",
    "                        new p-value > 0.05 ------> we fail to reject the null hypothesis(H0)\n",
    "\n",
    "**6. Business Conculsion :**\n",
    "\n",
    "                Age_cat & Segment are independent variables. \n",
    "                Age category does not affect how customers are segmented. "
   ]
  },
  {
   "cell_type": "markdown",
   "id": "00fd3e51-438e-4284-8ba4-28bd2db0ea48",
   "metadata": {},
   "source": [
    "### Q18. The current year has shown a significant rise in claim amounts as compared to 2016-17 fiscal average which was $10,000."
   ]
  },
  {
   "cell_type": "code",
   "execution_count": 2010,
   "id": "f157a31f-987c-4b20-951a-6de1c3f61abc",
   "metadata": {},
   "outputs": [
    {
     "name": "stdout",
     "output_type": "stream",
     "text": [
      "Mean of claim_amount of 2018:  12701.148186173854\n"
     ]
    }
   ],
   "source": [
    "current_year=cust_claim.loc[cust_claim.claim_date.dt.year == 2018,'claim_amount']\n",
    "print('Mean of claim_amount of 2018: ', current_year.mean())"
   ]
  },
  {
   "cell_type": "markdown",
   "id": "64e67910-c532-47c5-8ca8-3f82dbbf21fa",
   "metadata": {},
   "source": [
    "**1. NULL Hypothesis , H0 :**\n",
    "\n",
    "                u1 = u2\n",
    "\n",
    "**2. ALTERNATIVE Hypothesis , Ha :**\n",
    "\n",
    "                u1 <> u2\n",
    "\n",
    "**3. CI & p-values :**\n",
    "\n",
    "                CI = 95% & p value= 0.05\n",
    "\n",
    "**4. Perform the Test :**\n",
    "\n",
    "                t-test"
   ]
  },
  {
   "cell_type": "code",
   "execution_count": 2014,
   "id": "6efc5fca-1226-45c8-879d-ac601bdd3a28",
   "metadata": {},
   "outputs": [
    {
     "data": {
      "text/plain": [
       "TtestResult(statistic=4.421788475402985, pvalue=1.2086880225728461e-05, df=486)"
      ]
     },
     "execution_count": 2014,
     "metadata": {},
     "output_type": "execute_result"
    }
   ],
   "source": [
    "stats.ttest_1samp(current_year,10000)"
   ]
  },
  {
   "cell_type": "markdown",
   "id": "cdf74575-2f7a-4e90-9000-c916ca1dadfa",
   "metadata": {},
   "source": [
    "**5. Rejection Rule :**\n",
    "\n",
    "                New p-value < 0.05 \n",
    "                so, We reject the null hypothesis.\n",
    "\n",
    "**6. Business Conculsion :**\n",
    "\n",
    "                The average claim amount is significantly different from $10,000"
   ]
  },
  {
   "cell_type": "markdown",
   "id": "879be9ba-2aab-4456-a593-c51f0f77dabb",
   "metadata": {},
   "source": [
    "### Q19. Is there any difference between age groups and insurance claims?"
   ]
  },
  {
   "cell_type": "code",
   "execution_count": 2024,
   "id": "ded96371-0d1c-4f41-bb25-9ede76c36274",
   "metadata": {},
   "outputs": [
    {
     "data": {
      "text/plain": [
       "age_cat\n",
       "Adult       812\n",
       "Younth      141\n",
       "Senior      132\n",
       "Children      0\n",
       "Name: count, dtype: int64"
      ]
     },
     "execution_count": 2024,
     "metadata": {},
     "output_type": "execute_result"
    }
   ],
   "source": [
    "cust_claim.age_cat.value_counts()"
   ]
  },
  {
   "cell_type": "code",
   "execution_count": 2028,
   "id": "762e2cc7-da4e-44ea-b4b4-2c009975fae4",
   "metadata": {},
   "outputs": [
    {
     "name": "stdout",
     "output_type": "stream",
     "text": [
      "Mean of amount claim by the Adult age group :  12810.893503090892\n",
      "Mean of amount claim by the Youth age group :  12019.395842024755\n",
      "Mean of amount claim by the Senior age group :  10835.257204396912\n"
     ]
    }
   ],
   "source": [
    "m1 = cust_claim.loc[cust_claim.age_cat == 'Adult','claim_amount']\n",
    "m2 = cust_claim.loc[cust_claim.age_cat == 'Younth','claim_amount']\n",
    "m3 = cust_claim.loc[cust_claim.age_cat == 'Senior','claim_amount']\n",
    "print('Mean of amount claim by the Adult age group : ', m1.mean())\n",
    "print('Mean of amount claim by the Youth age group : ', m2.mean())\n",
    "print('Mean of amount claim by the Senior age group : ', m3.mean())"
   ]
  },
  {
   "cell_type": "markdown",
   "id": "d8835fd6-3c77-4a92-a523-e167f51083e8",
   "metadata": {},
   "source": [
    "**1. NULL Hypothesis , H0 :**\n",
    "\n",
    "                u1 = u2 = u3\n",
    "\n",
    "**2. ALTERNATIVE Hypothesis , Ha :**\n",
    "\n",
    "                u1 <> u2 <> u3\n",
    "\n",
    "**3. CI & p-values :**\n",
    "\n",
    "                CI = 95% & p value= 0.05\n",
    "\n",
    "**4. Perform the Test :**\n",
    "\n",
    "                f-test  | ANOVA test"
   ]
  },
  {
   "cell_type": "code",
   "execution_count": 2032,
   "id": "3de1166b-7c83-4bed-acec-71968114f62f",
   "metadata": {},
   "outputs": [
    {
     "data": {
      "text/plain": [
       "F_onewayResult(statistic=1.332776829877865, pvalue=0.26417649843631796)"
      ]
     },
     "execution_count": 2032,
     "metadata": {},
     "output_type": "execute_result"
    }
   ],
   "source": [
    "stats.f_oneway(m1,m2,m3)"
   ]
  },
  {
   "cell_type": "markdown",
   "id": "60d0ed52-13f9-439a-967a-ddb1ce943e65",
   "metadata": {},
   "source": [
    "**5. Rejection Rule :**\n",
    "\n",
    "                New p-value < 0.05 \n",
    "                so, We fail to reject the null hypothesis.\n",
    "\n",
    "**6. Business Conculsion :**\n",
    "\n",
    "                Insurance Claim behavior does not differ by age groups."
   ]
  },
  {
   "cell_type": "markdown",
   "id": "d16bd26b-42ce-473e-adee-b99579842f83",
   "metadata": {},
   "source": [
    "### Q20. Is there any relationship between total number of policy claims and the claimed amount?"
   ]
  },
  {
   "cell_type": "markdown",
   "id": "48be50fb-52cf-42bf-8181-061da283fe8f",
   "metadata": {},
   "source": [
    "**1. NULL hypothesis , H0 :**\n",
    "\n",
    "                Total_policy_claims & Claimed_amount are independent variables.\n",
    "\n",
    "\n",
    "**2. ALTERNATIVE hypothesis , Ha :**\n",
    "\n",
    "                Total_policy_claims & Claimed_amount are dependent variables.\n",
    "\n",
    "**3. CI & p-values :**\n",
    "\n",
    "                CI= 95% , p-value=0.05\n",
    "\n",
    "**4. Perform the test :**\n",
    "\n",
    "                pearsonr()"
   ]
  },
  {
   "cell_type": "code",
   "execution_count": 2043,
   "id": "703bafc6-bf20-4412-abdb-2e1247624dab",
   "metadata": {},
   "outputs": [
    {
     "data": {
      "text/plain": [
       "PearsonRResult(statistic=-0.01744856239346894, pvalue=0.5658830110321474)"
      ]
     },
     "execution_count": 2043,
     "metadata": {},
     "output_type": "execute_result"
    }
   ],
   "source": [
    "stats.pearsonr(cust_claim.total_policy_claims , cust_claim.claim_amount)"
   ]
  },
  {
   "cell_type": "markdown",
   "id": "3619ee66-5bfc-42e7-a086-4fe9a36961ac",
   "metadata": {},
   "source": [
    "**5. Rejection Rule :**\n",
    "\n",
    "            New p-value > 0.05 hence , We fail to reject the null hypothesis.\n",
    "\n",
    "            Cofficient value = -0.01744856239346894 which is a very weak negative correlation, indicating practically no relationship.\n",
    "\n",
    "**6. Business conclusion :**\n",
    "\n",
    "            Total_policy_claims & Claimed_amount are independent variables.\n",
    "            \n",
    "        (This implies that customers making more claims do not necessarily claim higher amounts, and customers with fewer claims do not                                necessarily claim lower amounts.)"
   ]
  },
  {
   "cell_type": "code",
   "execution_count": null,
   "id": "ed6742bb-92a2-4e95-913b-fccaf48885b9",
   "metadata": {},
   "outputs": [],
   "source": []
  }
 ],
 "metadata": {
  "kernelspec": {
   "display_name": "Python [conda env:base] *",
   "language": "python",
   "name": "conda-base-py"
  },
  "language_info": {
   "codemirror_mode": {
    "name": "ipython",
    "version": 3
   },
   "file_extension": ".py",
   "mimetype": "text/x-python",
   "name": "python",
   "nbconvert_exporter": "python",
   "pygments_lexer": "ipython3",
   "version": "3.12.7"
  }
 },
 "nbformat": 4,
 "nbformat_minor": 5
}
